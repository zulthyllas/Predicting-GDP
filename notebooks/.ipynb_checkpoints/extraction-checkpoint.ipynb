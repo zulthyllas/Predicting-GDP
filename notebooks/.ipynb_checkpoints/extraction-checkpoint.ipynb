{
 "cells": [
  {
   "cell_type": "markdown",
   "id": "0325da3d-1832-4611-bbc2-522f743a30d1",
   "metadata": {},
   "source": [
    "# Extraction\n",
    "\n",
    "Data Sources and Extractions Methods:\n",
    "|Source|Method|\n",
    "|---|---|\n",
    "|BEA|API|\n"
   ]
  },
  {
   "cell_type": "markdown",
   "id": "091bca91-2bbd-4d34-9cbc-b18e4c24e2e7",
   "metadata": {},
   "source": [
    "# Libraries Used\n"
   ]
  }
 ],
 "metadata": {
  "kernelspec": {
   "display_name": "Python 3 (ipykernel)",
   "language": "python",
   "name": "python3"
  },
  "language_info": {
   "codemirror_mode": {
    "name": "ipython",
    "version": 3
   },
   "file_extension": ".py",
   "mimetype": "text/x-python",
   "name": "python",
   "nbconvert_exporter": "python",
   "pygments_lexer": "ipython3",
   "version": "3.8.17"
  }
 },
 "nbformat": 4,
 "nbformat_minor": 5
}

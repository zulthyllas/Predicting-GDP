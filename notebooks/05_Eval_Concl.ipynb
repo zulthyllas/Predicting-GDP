{
 "cells": [
  {
   "cell_type": "markdown",
   "id": "82981a2a-1d51-47cd-936c-0ec282ee217c",
   "metadata": {},
   "source": [
    "# Introduction\n",
    "\n",
    "For the concluding section, we will be selecting the best performing model and reasons to support the decision. We will also detail the limits and future work for our model to be of greater use to our stakeholders."
   ]
  },
  {
   "cell_type": "markdown",
   "id": "8b773b08-b5d1-41bf-9d66-6cba41df642f",
   "metadata": {},
   "source": [
    "# Content\n",
    "\n",
    "1. [Key Findings](#Key-Findings)\n",
    "2. [Model Selection & Justification](#Model-Selection-&-Justification)\n",
    "3. [Limitations of Model](#Limitations-of-Model)\n",
    "4. [Conclusion](#Conclusion)\n",
    "5. [Future Works](#Future-Works)"
   ]
  },
  {
   "cell_type": "markdown",
   "id": "a118fa76-be16-43fa-8c42-873436496604",
   "metadata": {},
   "source": [
    "# Key Findings\n",
    "\n",
    "1. Predicting Quarterly GDP\n",
    "\n",
    "It is possible to predict quarterly GDP accurately for the next quarter and for the next year. Models such as SARIMAX and LSTM could predict accurately with the following properties:\n",
    "- Low RMSE values\n",
    "- Accurate Direction\n",
    "- Accurate Magnitude\n",
    "\n",
    "These models are able to meet our metrics of success mainly with the aid of features. With that said, while the model can predict for the next year accurately, it is unlikely that the accompanying features will be made available to us a year in advance of quarterly GDP prints. As the name implies, US GDP releases will be made quarterly therefore the largest possible time gap that we can predict GDP for is 1 quarter if we were to just use the the same tools and features available to us.\n",
    "\n",
    "Therefore, in model selection, we will only focus on models that can predict for 1 quarter of GDP release.\n",
    "\n",
    "2. Predicting Monthly GDP\n",
    "\n",
    "No models was able to predict for monthly GDP for the next 1 year or quarter accurately. I observed the following properties among top performing models which incidentally are almost all the models:\n",
    "- Low RMSE values\n",
    "- Inaccurate Direction\n",
    "- Inaccurate Magnitude\n",
    "\n",
    "The inaccuracy in direction and magnitude is amplified the larger the predicted periods become (from 3 to 12). Therefore, I will not be selecting models for predicting monthly gdp in model selection.\n",
    "\n",
    "3. Balance between Model Stability & Results\n",
    "\n",
    "Another key point that was personally going back and forth was about Model Stability and accurate results. The point here is made when tuning for LSTM's hyper parameters where I noticed that the predictions would change each time the model is run. There were times where the predictions was better or as good as SARIMAX and there were times when the predictions were worse. As a result of that, I would not want to deprive my stakeholders of a model that could perform well or a model that is stable in its predictions therefore, I will be incorporating both in model selection."
   ]
  },
  {
   "cell_type": "markdown",
   "id": "3fdb8119-99d8-456b-a209-d4689b985dd5",
   "metadata": {},
   "source": [
    "# Model Selection & Justification\n",
    "\n",
    "As mentioned above, we will be limiting our model selection to those that could only predict well for quarterly GDP, for the next quarter only.\n",
    "\n",
    "## Selected Model\n",
    "\n",
    "The models that are to be selected would be **SARIMAX (M=1, gdp_m)** and **LSTM(gdp_m)**.\n",
    "\n",
    "## Justification\n",
    "\n",
    "1. SARIMAX (M=1, gdp_m)\n",
    "\n",
    "There is at least one more SARIMAX model (M=1, payrolls) that got a better Test RMSE (0.30) than the model I selected (0.37). I did not select the model with better test RMSE values because the model was relying on payrolls only as a feature to predict GDP. GDP is not a one factor model and assuming that in my model would be foolish in the long run. Therefore, I have decided to proceed with the SARIMAX model that uses aggregated monthly gdp data (gdp_m) as the model of choice as the feature would be more representative of GDP as a whole and would reflect future GDP better when certain components of GDP for a particular quarter (e.g payrolls) is experiencing a shock and is underrepresented while other components may overrepresent.\n",
    "\n",
    "I do note that if enduring and accurate stability is of importance, then SARIMAX (M=1, AC Features) would have been the model of choice, however that would not be the case here as low RMSE values is a key consideration for us.\n",
    "\n",
    "2. LSTM (gdp_m)\n",
    "\n",
    "LSTM (gdp_m) produced the absolute lowest test RMSE value (0.01) and as a result, produced the most accurate magnitude relative to the true value.\n",
    "\n",
    "There are a few things that must be taken note of when using LSTM. First and foremost, the results are not repeatable as the deep learning process as an element of randomness to it and also due to the fact that I have inlcuded a dropout layer in between my dense layers when building out the architecture for the LSTM layers. As such, there are instances where the magnitude predicted was worse than SARIMAX (M=1, gdp_m). On the most part, it was able to produce as good or better results and that is the reason for its inclusion as a model to be selected.\n",
    "\n",
    "The second factor to note is that LSTM is unable to predict well beyond a short out of training sample timeframe. LSTM tends to overfit to training data and produce poor predicted results over longer time frames, however it has the ability to produce very accurate predictions over a short period of time. Therefore, I've included SARIMAX to offset this element of unpredictability and read into both these models together."
   ]
  },
  {
   "cell_type": "markdown",
   "id": "b0831241-9991-4fbe-8904-cb60db121889",
   "metadata": {},
   "source": [
    "# Limitations of Model\n",
    "\n",
    "As mentioned above, the best predictions come from models that predict GDP by using variables or features, like in our case, monthly GDP. Therefore, we are not able to predict for periods beyond 1 quarter at most. Further, model predictions from LSTM should not be taken in isolation and must be compared against a more reliable or stable model like SARIMAX. \n",
    "\n",
    "LSTM models should not be used to predict for longer periods of time. It has shown to be very accurate in predicting 1 - 3 data points into the future but struggle the further it is required to predict into the future.\n",
    "\n",
    "Lastly, while these models could predict for next quarter's GDP accurately, they should not be taken into consideration as the sole basis in a decision making processes. Like all responsible investors and stewards of capital, one should incorporate these model's predictions as an additional tool in a suite of risk management tools before the decision maker(s) come to a conclusion and decide to invest(or not)."
   ]
  },
  {
   "cell_type": "markdown",
   "id": "bd8f1c24-cf41-4321-b1c5-e1f901891796",
   "metadata": {},
   "source": [
    "# Conclusion\n",
    "\n",
    "Circling back to our problem statement: By predicting future US Quarterly GDP, I can quantify future demand outlook for my stakeholders and enable them to make better investment decisions today to realise a better future outcome.\n",
    "\n",
    "As shown, we are able to predict future US Quarterly GDP and we could show relatively accurate predictions when comparing against the true value we are predicting against. As we are only able to predict up to 1 quarter into the future, our stakeholders who require certainty of future economic prospects for the next 3 months or less would be able to benefit from the accuracy the models could produce. \n",
    "\n",
    "These stakeholders would be able to make a more informed decision in an uncertain environment and realise a better investment outcome if their expectation to realise their investment outcome is within 3 months or less. An example of these stakeholders would be relatively short term investors, short term project investors or managers who intends to invest in their business and hire short term staff on a rolling quarterly basis.\n",
    "\n",
    "The benefit to using these predictions would be an increased probability of success."
   ]
  },
  {
   "cell_type": "markdown",
   "id": "25a75093-fc39-4660-9cc7-b95c1d9bb917",
   "metadata": {},
   "source": [
    "# Future Work\n",
    "\n",
    "There are a few key areas that needs to be further explored. At the bare minimum, this project has showed that predicting for a complex economic metric like quarterly US GDP is possible. Predicting GDP is a deep and complex topic and there are more tools methodologies to explore in the pursuit of predicting GDP over a longer period or over a similar period. Here are my list of things to explore as part of future works.\n",
    "\n",
    "1. Isolate direction of GDP ROC (positive growth / negative growth) and magnitude separately and model those properties separately.\n",
    "2. Model the boom/bust cycle of the US economy with Space State Models (possibly) to predict for GDP over a longer time frame.\n",
    "3. Model Rate of change effects and base effects over 1 year and 2 year cycles to predict GDP over medium term time frames.\n",
    "4. Explore more proxies, economic data, features with aggregate data providers (but at a cost).\n",
    "5. Automate data extraction if path towards aggregate data providers is explored.\n",
    "6. If LSTM models are to be used again in future works, perhaps a distribution of predicted outcomes and a confidence interval to represent those outcomes would be more appropriate than the outcome of the last epoch which may not be reproducible.\n",
    "\n",
    "This concludes the project. Thank you for your time and attention."
   ]
  }
 ],
 "metadata": {
  "kernelspec": {
   "display_name": "Python 3 (ipykernel)",
   "language": "python",
   "name": "python3"
  },
  "language_info": {
   "codemirror_mode": {
    "name": "ipython",
    "version": 3
   },
   "file_extension": ".py",
   "mimetype": "text/x-python",
   "name": "python",
   "nbconvert_exporter": "python",
   "pygments_lexer": "ipython3",
   "version": "3.8.17"
  }
 },
 "nbformat": 4,
 "nbformat_minor": 5
}
